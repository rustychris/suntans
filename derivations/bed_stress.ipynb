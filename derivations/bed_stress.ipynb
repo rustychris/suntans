{
 "cells": [
  {
   "cell_type": "code",
   "execution_count": 1,
   "metadata": {},
   "outputs": [],
   "source": [
    "from sympy import *\n",
    "init_printing()"
   ]
  },
  {
   "cell_type": "code",
   "execution_count": 38,
   "metadata": {},
   "outputs": [],
   "source": [
    "# Known values\n",
    "k,dz,z0,U=symbols('k Delta_z z0 U') # average u over [0,dz], given\n",
    "\n",
    "# independent or unknown\n",
    "us,z = symbols('u_* z')\n",
    "u=Function('u')"
   ]
  },
  {
   "cell_type": "code",
   "execution_count": 39,
   "metadata": {},
   "outputs": [
    {
     "data": {
      "image/png": "[encoded data removed]",
      "text/latex": [
       "$\\displaystyle \\frac{u_{*} \\log{\\left(\\frac{z}{z_{0}} \\right)}}{k}$"
      ],
      "text/plain": [
       "       ⎛z ⎞\n",
       "u_*⋅log⎜──⎟\n",
       "       ⎝z₀⎠\n",
       "───────────\n",
       "     k     "
      ]
     },
     "execution_count": 39,
     "metadata": {},
     "output_type": "execute_result"
    }
   ],
   "source": [
    "log_profile=us/k*ln(z/z0)\n",
    "log_profile"
   ]
  },
  {
   "cell_type": "code",
   "execution_count": 47,
   "metadata": {},
   "outputs": [
    {
     "data": {
      "image/png": "[encoded data removed]",
      "text/latex": [
       "$\\displaystyle \\frac{\\Delta_{z} U k}{\\Delta_{z} \\log{\\left(\\frac{\\Delta_{z}}{z_{0}} \\right)} - \\Delta_{z} + z_{0}}$"
      ],
      "text/plain": [
       "        Δ_z⋅U⋅k        \n",
       "───────────────────────\n",
       "       ⎛Δ_z⎞           \n",
       "Δ_z⋅log⎜───⎟ - Δ_z + z₀\n",
       "       ⎝ z₀⎠           "
      ]
     },
     "execution_count": 47,
     "metadata": {},
     "output_type": "execute_result"
    }
   ],
   "source": [
    "# relate u* and U\n",
    "us_soln= solve(U-(integrate(log_profile,(z,z0,dz))/dz), us)[0].simplify()\n",
    "us_soln"
   ]
  },
  {
   "cell_type": "code",
   "execution_count": 48,
   "metadata": {},
   "outputs": [
    {
     "data": {
      "image/png": "[encoded data removed]",
      "text/latex": [
       "$\\displaystyle \\frac{\\Delta_{z}^{2} k^{2}}{\\left(\\Delta_{z} \\log{\\left(\\frac{\\Delta_{z}}{z_{0}} \\right)} - \\Delta_{z} + z_{0}\\right)^{2}}$"
      ],
      "text/plain": [
       "            2  2          \n",
       "         Δ_z ⋅k           \n",
       "──────────────────────────\n",
       "                         2\n",
       "⎛       ⎛Δ_z⎞           ⎞ \n",
       "⎜Δ_z⋅log⎜───⎟ - Δ_z + z₀⎟ \n",
       "⎝       ⎝ z₀⎠           ⎠ "
      ]
     },
     "execution_count": 48,
     "metadata": {},
     "output_type": "execute_result"
    }
   ],
   "source": [
    "# so us_soln**2 is the stress I want, and it's in terms of knowns.\n",
    "# Assuming CdB will be used as tau=us**2=CdB*U^2:\n",
    "CdB_soln=us_soln**2/U**2\n",
    "CdB_soln"
   ]
  },
  {
   "cell_type": "code",
   "execution_count": 49,
   "metadata": {},
   "outputs": [
    {
     "data": {
      "image/png": "[encoded data removed]",
      "text/latex": [
       "$\\displaystyle \\frac{U k}{\\log{\\left(\\frac{\\Delta_{z}}{2 z_{0}} \\right)}}$"
      ],
      "text/plain": [
       "   U⋅k   \n",
       "─────────\n",
       "   ⎛Δ_z ⎞\n",
       "log⎜────⎟\n",
       "   ⎝2⋅z₀⎠"
      ]
     },
     "execution_count": 49,
     "metadata": {},
     "output_type": "execute_result"
    }
   ],
   "source": [
    "# Compare with the naive approach:\n",
    "us_soln2= solve(U-log_profile.subs(z,dz/2), us)[0].simplify()\n",
    "us_soln2"
   ]
  },
  {
   "cell_type": "code",
   "execution_count": 50,
   "metadata": {},
   "outputs": [
    {
     "data": {
      "image/png": "[encoded data removed]",
      "text/latex": [
       "$\\displaystyle \\frac{k^{2}}{\\log{\\left(\\frac{\\Delta_{z}}{2 z_{0}} \\right)}^{2}}$"
      ],
      "text/plain": [
       "     2    \n",
       "    k     \n",
       "──────────\n",
       "   2⎛Δ_z ⎞\n",
       "log ⎜────⎟\n",
       "    ⎝2⋅z₀⎠"
      ]
     },
     "execution_count": 50,
     "metadata": {},
     "output_type": "execute_result"
    }
   ],
   "source": [
    "CdB_soln2=us_soln2**2/U**2\n",
    "CdB_soln2"
   ]
  },
  {
   "cell_type": "code",
   "execution_count": 53,
   "metadata": {},
   "outputs": [
    {
     "data": {
      "image/png": "[encoded data removed]",
      "text/latex": [
       "$\\displaystyle 0.693147180559945$"
      ],
      "text/plain": [
       "0.693147180559945"
      ]
     },
     "execution_count": 53,
     "metadata": {},
     "output_type": "execute_result"
    }
   ],
   "source": [
    "# that factor of 2...\n",
    "# both have (log(dz/z0) - X)^2 in the denominator\n",
    "# simple approach has X=log(2) = 0.69\n",
    "# exact approach has X=1-z0/dz\n",
    "log(2).evalf()"
   ]
  },
  {
   "cell_type": "code",
   "execution_count": null,
   "metadata": {},
   "outputs": [],
   "source": [
    "# How exactly is CdB being used?\n",
    "# Implicit portion, 3d cell:\n",
    "#  b[k_bed]=1.0+theta*dt*(a[k_bed] + 2*CdB*U_bed_mag/(dz1+dz2))\n",
    "# Explicit portion, single layer:\n",
    "#  u -= 2*dt*(1-theta)*CdB/(dzz1+dzz2)*u_bed_mag*u\n",
    "\n",
    "# So that looks like du/dt=(tau/rho)/dzz, tau/rho=us**2=CdB*U**2\n",
    "# dzz=(dzz1+dzz2)/2"
   ]
  }
 ],
 "metadata": {
  "kernelspec": {
   "display_name": "Python 3",
   "language": "python",
   "name": "python3"
  },
  "language_info": {
   "codemirror_mode": {
    "name": "ipython",
    "version": 3
   },
   "file_extension": ".py",
   "mimetype": "text/x-python",
   "name": "python",
   "nbconvert_exporter": "python",
   "pygments_lexer": "ipython3",
   "version": "3.7.3"
  }
 },
 "nbformat": 4,
 "nbformat_minor": 2
}
